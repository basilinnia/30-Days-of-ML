{
 "cells": [
  {
   "cell_type": "markdown",
   "metadata": {},
   "source": [
    "# Neurons in Deep Learning\n",
    "\n",
    "### But what is deep learning exactly?\n",
    "TLDR: It's like the brain-like strucruted machine learning technique.  \n",
    "\n",
    "Deep learning is the subset of machine learning methods which are based on artificial neural networks with representation learning. The adjective \"deep\" in deep learning refers to the use of multiple layers in the network. Methods used can be either supervised, semi-supervised or unsupervised.\n",
    "![image-2.png](What-Is-Deep-Learning.jpg)\n",
    "<br>\n",
    "![image.png](MLvsDL(2).png)\n"
   ]
  },
  {
   "cell_type": "markdown",
   "metadata": {},
   "source": [
    "<br>\n",
    "Through their power and scalability neural networks have become the defining model of deep learning. Neural networks are composed of neurons, where each neuron individually performs only a simple computation. The power of a neural network comes instead from the complexity of the connections these neurons can form.\n",
    "<br>\n",
    "\n",
    "## Neuron\n",
    "![image.png](neuron.png)\n",
    "<br>\n",
    "<li style=\"font-family:Segoe UI;\"> The input is x. Its connection to the neuron has a weight which is w. Whenever a value flows through a connection, you multiply the value by the connection's weight. For the input x, what reaches the neuron is w * x. A neural network \"learns\" by modifying its weights. </li>\n",
    "<br>\n",
    "<li style=\"font-family:Segoe UI;\">The b is a special kind of weight we call the bias. The bias doesn't have any input data associated with it; instead, we put a 1 in the diagram so that the value that reaches the neuron is just b (since 1 * b = b). The bias enables the neuron to modify the output independently of its inputs.</li>\n",
    "<br>\n",
    "\n",
    "## Real-life Example:\n",
    "Let's consider a simple real-life example - predicting house prices based on square footage ($x$).\n",
    "\n",
    "$x$: Square footage of a house.\n",
    "<br>\n",
    "$w$: Weight associated with square footage, representing the importance of square footage in determining house price.\n",
    "<br>\n",
    "$b$: Bias term, representing a base price for a house irrespective of square footage.\n",
    "<br>\n",
    "<br>\n",
    "The equation becomes:\n",
    "<br>\n",
    " $$House\\,Price = w ⋅ Square \\,Footage + b$$\n",
    "<br>\n",
    "In this scenario:\n",
    "\n",
    "$w$ would represent how much the price increases for each additional square foot.\n",
    "<br>\n",
    "$b$ would be a base price, accounting for factors like location, amenities, etc., that contribute to the overall house price.\n",
    "<br>\n",
    "<br>\n",
    "During training, the neural network adjusts the weights ($w$) and bias ($b$) to minimize the difference between predicted prices and actual prices in the training data. Once trained, the neural network can make predictions for house prices based on new square footage inputs."
   ]
  },
  {
   "cell_type": "code",
   "execution_count": 5,
   "metadata": {},
   "outputs": [
    {
     "name": "stdout",
     "output_type": "stream",
     "text": [
      "<tf.Variable 'dense_4/kernel:0' shape=(3, 1) dtype=float32, numpy=\n",
      "array([[-0.95803416],\n",
      "       [-0.87661755],\n",
      "       [ 0.1562897 ]], dtype=float32)>\n"
     ]
    }
   ],
   "source": [
    "from tensorflow import keras\n",
    "from keras import  layers\n",
    "\n",
    "# Create a network with 1 linear unit\n",
    "model = keras.Sequential([\n",
    "    layers.Dense(units=1, input_shape=[3])\n",
    "])\n",
    "\n",
    "print(model.weights)"
   ]
  }
 ],
 "metadata": {
  "kernelspec": {
   "display_name": "Python 3 (ipykernel)",
   "language": "python",
   "name": "python3"
  },
  "language_info": {
   "codemirror_mode": {
    "name": "ipython",
    "version": 3
   },
   "file_extension": ".py",
   "mimetype": "text/x-python",
   "name": "python",
   "nbconvert_exporter": "python",
   "pygments_lexer": "ipython3",
   "version": "3.9.13"
  }
 },
 "nbformat": 4,
 "nbformat_minor": 2
}
